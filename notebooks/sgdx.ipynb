{
 "cells": [
  {
   "cell_type": "code",
   "execution_count": 1,
   "id": "3dae5513",
   "metadata": {},
   "outputs": [],
   "source": [
    "%load_ext autoreload\n",
    "%autoreload 2\n",
    "\n",
    "import json\n",
    "import os\n",
    "from pathlib import Path\n",
    "\n",
    "import numpy as np"
   ]
  },
  {
   "cell_type": "code",
   "execution_count": 2,
   "id": "71f38ecb",
   "metadata": {},
   "outputs": [],
   "source": [
    "def get_service_set(schema_path):\n",
    "    \"\"\"Get the set of all services present in a schema.\"\"\"\n",
    "    service_set = set()\n",
    "    with open(schema_path, 'r') as f:\n",
    "        schema = json.load(f)\n",
    "        for service in schema:\n",
    "            service_set.add(service[\"service_name\"])\n",
    "    return service_set\n",
    "\n",
    "\n",
    "def get_in_domain_services(schema_path_1, schema_path_2):\n",
    "    \"\"\"Get the set of common services between two schemas.\"\"\"\n",
    "    return get_service_set(schema_path_1) & get_service_set(schema_path_2)\n",
    "\n",
    "# Replace the arguments with the paths to the original train and test schemas\n",
    "in_domain_services = get_in_domain_services(\n",
    "        os.path.join(Path().resolve().parent, \"data/raw/sgd/train\", \"schema.json\"),\n",
    "        os.path.join(Path().resolve().parent, \"data/raw/sgd/test\", \"schema.json\"))"
   ]
  },
  {
   "cell_type": "code",
   "execution_count": 3,
   "id": "ff7f9ef1",
   "metadata": {},
   "outputs": [],
   "source": [
    "# The directory structure here is\n",
    "# decode/sgd-x/\n",
    "#   v1/\n",
    "#     experiment-11-1/model.2560000/\n",
    "#       *.json\n",
    "#   v2/\n",
    "#     experiment-11-1/model.2560000/\n",
    "#       *.json\n",
    "#   v3/\n",
    "#     experiment-11-1/model.2560000/\n",
    "#       *.json\n",
    "#   v4/\n",
    "#     experiment-11-1/model.2560000/\n",
    "#       *.json\n",
    "#   v5/\n",
    "#     experiment-11-1/model.2560000/\n",
    "#       *.json\n",
    "# Change the variables to match your directory structure.\n",
    "directory = os.path.join(Path().resolve().parent, \"decode/sgd-x\")\n",
    "name = \"experiment-11-1/model.2560000\"\n",
    "versions = [\"v1\", \"v2\", \"v3\", \"v4\", \"v5\"]\n",
    "# Metric to use\n",
    "metric = \"joint_goal_accuracy\"\n",
    "\n",
    "all_scores, seen_scores, unseen_scores = [], [], []\n",
    "for version in versions:\n",
    "    version_directory = os.path.join(directory, version, name)\n",
    "    all_version_scores, seen_version_scores, unseen_version_scores = [], [], []\n",
    "    with open(os.path.join(version_directory, \"metrics_and_dialogues.json\"), \"r\") as f:\n",
    "        data = json.load(f)\n",
    "        for dialogue in data:\n",
    "            for turn in data[dialogue][\"turns\"]:\n",
    "                if turn[\"speaker\"] != \"USER\":\n",
    "                    continue\n",
    "                for frame in turn[\"frames\"]:\n",
    "                    if frame[\"service\"][:-1] in in_domain_services:\n",
    "                        # Seen\n",
    "                        seen_version_scores.append(frame[\"metrics\"][metric])\n",
    "                    else:\n",
    "                        # Unseen\n",
    "                        unseen_version_scores.append(frame[\"metrics\"][metric])\n",
    "                    all_version_scores.append(frame[\"metrics\"][metric])\n",
    "    all_scores.append(all_version_scores)\n",
    "    seen_scores.append(seen_version_scores)\n",
    "    unseen_scores.append(unseen_version_scores)\n",
    "\n",
    "# 2D array with dimensions (5, T) where T is number of frames\n",
    "all_scores = np.asarray(all_scores)\n",
    "seen_scores = np.asarray(seen_scores)\n",
    "unseen_scores = np.asarray(unseen_scores)"
   ]
  },
  {
   "cell_type": "code",
   "execution_count": 4,
   "id": "06376b98",
   "metadata": {},
   "outputs": [
    {
     "name": "stdout",
     "output_type": "stream",
     "text": [
      "0.42356559880080674\n",
      "0.7069315490328452\n",
      "0.3290010125230066\n"
     ]
    }
   ],
   "source": [
    "all_average = np.mean(all_scores)\n",
    "seen_average = np.mean(seen_scores)\n",
    "unseen_average = np.mean(unseen_scores)\n",
    "print(all_average)\n",
    "print(seen_average)\n",
    "print(unseen_average)"
   ]
  },
  {
   "cell_type": "code",
   "execution_count": 5,
   "id": "20f07549",
   "metadata": {},
   "outputs": [
    {
     "name": "stdout",
     "output_type": "stream",
     "text": [
      "0.7554753093832196\n",
      "0.5654699684037223\n",
      "0.8652182144164333\n"
     ]
    },
    {
     "name": "stderr",
     "output_type": "stream",
     "text": [
      "/tmp/ipykernel_23107/436823656.py:7: RuntimeWarning: invalid value encountered in true_divide\n",
      "  ss.append(np.nanmean(std / mean))\n"
     ]
    }
   ],
   "source": [
    "ss = []\n",
    "for scores in [all_scores.T, seen_scores.T, unseen_scores.T]:\n",
    "    # 2D array with dimensions (T, 5)\n",
    "    mean = np.mean(scores, axis=1, keepdims=True)\n",
    "    std = np.sqrt(np.sum((scores - mean) ** 2, axis=1, keepdims=True) / (5 - 1))\n",
    "    # Use np.nanmean to skip 0 / 0\n",
    "    ss.append(np.nanmean(std / mean))\n",
    "\n",
    "all_ss, seen_ss, unseen_ss = ss\n",
    "print(all_ss)\n",
    "print(seen_ss)\n",
    "print(unseen_ss)"
   ]
  }
 ],
 "metadata": {
  "kernelspec": {
   "display_name": "Python 3 (ipykernel)",
   "language": "python",
   "name": "python3"
  },
  "language_info": {
   "codemirror_mode": {
    "name": "ipython",
    "version": 3
   },
   "file_extension": ".py",
   "mimetype": "text/x-python",
   "name": "python",
   "nbconvert_exporter": "python",
   "pygments_lexer": "ipython3",
   "version": "3.9.10"
  }
 },
 "nbformat": 4,
 "nbformat_minor": 5
}